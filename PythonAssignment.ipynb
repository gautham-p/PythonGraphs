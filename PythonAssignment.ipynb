{
 "cells": [
  {
   "cell_type": "code",
   "execution_count": 1,
   "metadata": {},
   "outputs": [],
   "source": [
    "import pandas as pd\n",
    "import os\n",
    "import numpy as np\n",
    "import matplotlib.pyplot as plt\n",
    "import seaborn as sns"
   ]
  },
  {
   "cell_type": "code",
   "execution_count": 2,
   "metadata": {},
   "outputs": [],
   "source": [
    "df = pd.read_csv('Attrition.csv', encoding= 'unicode_escape')\n",
    "df_back = df"
   ]
  },
  {
   "cell_type": "code",
   "execution_count": 4,
   "metadata": {},
   "outputs": [
    {
     "data": {
      "text/plain": [
       "Car              object\n",
       "MPG             float64\n",
       "Cylinders         int64\n",
       "Displacement    float64\n",
       "Horsepower        int64\n",
       "Weight            int64\n",
       "Acceleration    float64\n",
       "Model             int64\n",
       "Origin           object\n",
       "dtype: object"
      ]
     },
     "execution_count": 4,
     "metadata": {},
     "output_type": "execute_result"
    }
   ],
   "source": [
    "cars=pd.read_csv(\"cars.csv\")\n",
    "cars.dtypes"
   ]
  },
  {
   "cell_type": "code",
   "execution_count": 22,
   "metadata": {},
   "outputs": [
    {
     "data": {
      "text/html": [
       "<div>\n",
       "<style scoped>\n",
       "    .dataframe tbody tr th:only-of-type {\n",
       "        vertical-align: middle;\n",
       "    }\n",
       "\n",
       "    .dataframe tbody tr th {\n",
       "        vertical-align: top;\n",
       "    }\n",
       "\n",
       "    .dataframe thead th {\n",
       "        text-align: right;\n",
       "    }\n",
       "</style>\n",
       "<table border=\"1\" class=\"dataframe\">\n",
       "  <thead>\n",
       "    <tr style=\"text-align: right;\">\n",
       "      <th></th>\n",
       "      <th>Car</th>\n",
       "      <th>MPG</th>\n",
       "      <th>Cylinders</th>\n",
       "      <th>Displacement</th>\n",
       "      <th>Horsepower</th>\n",
       "      <th>Weight</th>\n",
       "      <th>Acceleration</th>\n",
       "      <th>Model</th>\n",
       "      <th>Origin</th>\n",
       "    </tr>\n",
       "  </thead>\n",
       "  <tbody>\n",
       "    <tr>\n",
       "      <th>0</th>\n",
       "      <td>Chevrolet Chevelle Malibu</td>\n",
       "      <td>18.0</td>\n",
       "      <td>8</td>\n",
       "      <td>307.0</td>\n",
       "      <td>130</td>\n",
       "      <td>3504</td>\n",
       "      <td>12.0</td>\n",
       "      <td>70</td>\n",
       "      <td>US</td>\n",
       "    </tr>\n",
       "    <tr>\n",
       "      <th>1</th>\n",
       "      <td>Buick Skylark 320</td>\n",
       "      <td>15.0</td>\n",
       "      <td>8</td>\n",
       "      <td>350.0</td>\n",
       "      <td>165</td>\n",
       "      <td>3693</td>\n",
       "      <td>11.5</td>\n",
       "      <td>70</td>\n",
       "      <td>US</td>\n",
       "    </tr>\n",
       "    <tr>\n",
       "      <th>2</th>\n",
       "      <td>Plymouth Satellite</td>\n",
       "      <td>18.0</td>\n",
       "      <td>8</td>\n",
       "      <td>318.0</td>\n",
       "      <td>150</td>\n",
       "      <td>3436</td>\n",
       "      <td>11.0</td>\n",
       "      <td>70</td>\n",
       "      <td>US</td>\n",
       "    </tr>\n",
       "    <tr>\n",
       "      <th>3</th>\n",
       "      <td>AMC Rebel SST</td>\n",
       "      <td>16.0</td>\n",
       "      <td>8</td>\n",
       "      <td>304.0</td>\n",
       "      <td>150</td>\n",
       "      <td>3433</td>\n",
       "      <td>12.0</td>\n",
       "      <td>70</td>\n",
       "      <td>US</td>\n",
       "    </tr>\n",
       "    <tr>\n",
       "      <th>4</th>\n",
       "      <td>Ford Torino</td>\n",
       "      <td>17.0</td>\n",
       "      <td>8</td>\n",
       "      <td>302.0</td>\n",
       "      <td>140</td>\n",
       "      <td>3449</td>\n",
       "      <td>10.5</td>\n",
       "      <td>70</td>\n",
       "      <td>US</td>\n",
       "    </tr>\n",
       "    <tr>\n",
       "      <th>...</th>\n",
       "      <td>...</td>\n",
       "      <td>...</td>\n",
       "      <td>...</td>\n",
       "      <td>...</td>\n",
       "      <td>...</td>\n",
       "      <td>...</td>\n",
       "      <td>...</td>\n",
       "      <td>...</td>\n",
       "      <td>...</td>\n",
       "    </tr>\n",
       "    <tr>\n",
       "      <th>401</th>\n",
       "      <td>Ford Mustang GL</td>\n",
       "      <td>27.0</td>\n",
       "      <td>4</td>\n",
       "      <td>140.0</td>\n",
       "      <td>86</td>\n",
       "      <td>2790</td>\n",
       "      <td>15.6</td>\n",
       "      <td>82</td>\n",
       "      <td>US</td>\n",
       "    </tr>\n",
       "    <tr>\n",
       "      <th>402</th>\n",
       "      <td>Volkswagen Pickup</td>\n",
       "      <td>44.0</td>\n",
       "      <td>4</td>\n",
       "      <td>97.0</td>\n",
       "      <td>52</td>\n",
       "      <td>2130</td>\n",
       "      <td>24.6</td>\n",
       "      <td>82</td>\n",
       "      <td>Europe</td>\n",
       "    </tr>\n",
       "    <tr>\n",
       "      <th>403</th>\n",
       "      <td>Dodge Rampage</td>\n",
       "      <td>32.0</td>\n",
       "      <td>4</td>\n",
       "      <td>135.0</td>\n",
       "      <td>84</td>\n",
       "      <td>2295</td>\n",
       "      <td>11.6</td>\n",
       "      <td>82</td>\n",
       "      <td>US</td>\n",
       "    </tr>\n",
       "    <tr>\n",
       "      <th>404</th>\n",
       "      <td>Ford Ranger</td>\n",
       "      <td>28.0</td>\n",
       "      <td>4</td>\n",
       "      <td>120.0</td>\n",
       "      <td>79</td>\n",
       "      <td>2625</td>\n",
       "      <td>18.6</td>\n",
       "      <td>82</td>\n",
       "      <td>US</td>\n",
       "    </tr>\n",
       "    <tr>\n",
       "      <th>405</th>\n",
       "      <td>Chevy S-10</td>\n",
       "      <td>31.0</td>\n",
       "      <td>4</td>\n",
       "      <td>119.0</td>\n",
       "      <td>82</td>\n",
       "      <td>2720</td>\n",
       "      <td>19.4</td>\n",
       "      <td>82</td>\n",
       "      <td>US</td>\n",
       "    </tr>\n",
       "  </tbody>\n",
       "</table>\n",
       "<p>406 rows × 9 columns</p>\n",
       "</div>"
      ],
      "text/plain": [
       "                           Car   MPG  Cylinders  Displacement  Horsepower  \\\n",
       "0    Chevrolet Chevelle Malibu  18.0          8         307.0         130   \n",
       "1            Buick Skylark 320  15.0          8         350.0         165   \n",
       "2           Plymouth Satellite  18.0          8         318.0         150   \n",
       "3                AMC Rebel SST  16.0          8         304.0         150   \n",
       "4                  Ford Torino  17.0          8         302.0         140   \n",
       "..                         ...   ...        ...           ...         ...   \n",
       "401            Ford Mustang GL  27.0          4         140.0          86   \n",
       "402          Volkswagen Pickup  44.0          4          97.0          52   \n",
       "403              Dodge Rampage  32.0          4         135.0          84   \n",
       "404                Ford Ranger  28.0          4         120.0          79   \n",
       "405                 Chevy S-10  31.0          4         119.0          82   \n",
       "\n",
       "     Weight  Acceleration  Model  Origin  \n",
       "0      3504          12.0     70      US  \n",
       "1      3693          11.5     70      US  \n",
       "2      3436          11.0     70      US  \n",
       "3      3433          12.0     70      US  \n",
       "4      3449          10.5     70      US  \n",
       "..      ...           ...    ...     ...  \n",
       "401    2790          15.6     82      US  \n",
       "402    2130          24.6     82  Europe  \n",
       "403    2295          11.6     82      US  \n",
       "404    2625          18.6     82      US  \n",
       "405    2720          19.4     82      US  \n",
       "\n",
       "[406 rows x 9 columns]"
      ]
     },
     "execution_count": 22,
     "metadata": {},
     "output_type": "execute_result"
    }
   ],
   "source": [
    "cars"
   ]
  },
  {
   "cell_type": "markdown",
   "metadata": {},
   "source": [
    "### Answer 1:\n",
    "\n",
    "Create a function named ‘Histogram’ which will take the entire dataset as input and\n",
    "return the histograms for all the numerical variables in your dataset as .png files in your working\n",
    "directory. Make sure that all the generated graphs have proper titles and axis labels. \n",
    "\n",
    "Histogram(data) -> *returns histograms for all numerical variables in data.*"
   ]
  },
  {
   "cell_type": "code",
   "execution_count": null,
   "metadata": {},
   "outputs": [],
   "source": [
    "def Histogram(data):\n",
    "    try:\n",
    "        if not isinstance(data, pd.DataFrame):# Making sure that data variable is a DataFrame\n",
    "           raise TypeError('The data must be passed in a dataframe')\n",
    "        numerics = ['int16', 'int32', 'int64', 'float16', 'float32', 'float64']\n",
    "        numeric_vars = data.select_dtypes(include=numerics).columns.tolist()\n",
    "    \n",
    "        for col in numeric_vars:\n",
    "            plt.figure()\n",
    "            plt.clf()\n",
    "            data[col].hist(bins=30, figsize=(10,5))\n",
    "            plt.xlabel(col, fontsize=14)\n",
    "            plt.ylabel('Frequency', fontsize=14)\n",
    "            plt.title('Histogram of '+col, fontsize=20)\n",
    "            plt.savefig('Histogram_'+col+'.png')\n",
    "\n",
    "        print(\"Histograms downloaded at : \", os.getcwd())\n",
    "    \n",
    "    except TypeError as err:\n",
    "        print(\"ERROR: Check the function argument datatype\")\n",
    "        print(err.args[0])\n",
    "    except:\n",
    "        print(\"ERROR: An error has occurred\")"
   ]
  },
  {
   "cell_type": "code",
   "execution_count": null,
   "metadata": {},
   "outputs": [],
   "source": [
    "Histogram(df)"
   ]
  },
  {
   "cell_type": "markdown",
   "metadata": {},
   "source": [
    "### Answer 2:\n",
    "\n",
    "Make an improvement on the function you have created in 1. Create a function names ‘Graphs’\n",
    "which will take a dataset as input and return histograms and boxplots for all the numerical\n",
    "variables and bar plots for all categorical variables. \n",
    "\n",
    "Graphs(data)\n",
    "-> *returns histograms and boxplots for all numerical variables and bar plot for all categorical variables in data.*"
   ]
  },
  {
   "cell_type": "code",
   "execution_count": null,
   "metadata": {},
   "outputs": [],
   "source": [
    "def Graphs(data):\n",
    "    try:\n",
    "        if not isinstance(data, pd.DataFrame):# Making sure that data variable is a DataFrame\n",
    "           raise TypeError('The data must be passed in a dataframe')\n",
    "        \n",
    "        numerics = ['int16', 'int32', 'int64', 'float16', 'float32', 'float64']\n",
    "        numeric_vars = data.select_dtypes(include=numerics).columns.tolist()\n",
    "        cateogorical_vars = data.select_dtypes(include=['object','bool']).columns.tolist()\n",
    "        \n",
    "        for col in numeric_vars:\n",
    "            plt.figure()\n",
    "            plt.clf()\n",
    "            data[col].hist(bins=30, figsize=(10,5))\n",
    "            plt.xlabel(col, fontsize=10)\n",
    "            plt.ylabel('Frequency', fontsize=10)\n",
    "            plt.title('Histogram of '+col, fontsize=12)\n",
    "            plt.savefig(\"Histogram_\"+col+\".png\")\n",
    "        print(\"Histograms downloaded at : \", os.getcwd())\n",
    "\n",
    "        for col in numeric_vars:\n",
    "            plt.figure\n",
    "            plt.clf()\n",
    "            sns.boxplot(data[col])\n",
    "            plt.xlabel('Range of Values', fontsize=10)\n",
    "            plt.title('Boxplot of '+col, fontsize=12)\n",
    "            plt.savefig(\"Boxplot_\"+col+\".png\")\n",
    "        print(\"Box Plots downloaded at : \", os.getcwd())\n",
    "\n",
    "        for col in cateogorical_vars:\n",
    "            plt.figure()\n",
    "            plt.clf()\n",
    "            sns.countplot(data[col]).set_title('Bar Plot of '+col)\n",
    "            plt.savefig(\"Barplot_\"+col+\".png\")\n",
    "        print(\"Bar Plots downloaded at : \", os.getcwd())\n",
    "    \n",
    "    except TypeError as err:\n",
    "        print(\"ERROR: Check the function argument datatype\")\n",
    "        print(err.args[0])\n",
    "    except:\n",
    "        print(\"ERROR: An error has occurred\")\n"
   ]
  },
  {
   "cell_type": "code",
   "execution_count": null,
   "metadata": {},
   "outputs": [],
   "source": [
    "Graphs(df)"
   ]
  },
  {
   "cell_type": "markdown",
   "metadata": {},
   "source": [
    "### Answer 3:\n",
    "\n",
    "Often, we are not required to plot the graphs for all the variables in our dataset. Add an additional\n",
    "argument to the function in 2 named ‘var’. This will take a list containing the variable index and\n",
    "return the graphs for only those variables. By default, (i.e. if the list of variable index is not\n",
    "provided), then it must return the required graphs for all the variables in data. \n",
    "\n",
    "Graphs(data, var=c(1,3,4))\n",
    "-> *Will generate the graphics for only the variables 1,3 & 4 in the\n",
    "data.*"
   ]
  },
  {
   "cell_type": "code",
   "execution_count": null,
   "metadata": {},
   "outputs": [],
   "source": [
    "def Graphs(data, var=[]):\n",
    "    try:\n",
    "        data=data.copy()\n",
    "        if not isinstance(var,list):# Making sure that var variable is a list\n",
    "           raise TypeError('The column numbers must be present in a list')\n",
    "        if len(var)!=0:\n",
    "            drop_cols = list(range(len(data.columns)))\n",
    "            drop_cols = list(set(drop_cols).difference(var))\n",
    "            data.drop(data.columns[drop_cols], axis=1, inplace=True)\n",
    "            \n",
    "        numerics = ['int16', 'int32', 'int64', 'float16', 'float32', 'float64']\n",
    "        numeric_vars = data.select_dtypes(include=numerics).columns.tolist()\n",
    "        cateogorical_vars = data.select_dtypes(include=['object','bool']).columns.tolist()\n",
    "   \n",
    "        for col in numeric_vars:\n",
    "            plt.figure()\n",
    "            plt.clf()\n",
    "            data[col].hist(bins=30, figsize=(10,5))\n",
    "            plt.xlabel(col, fontsize=10)\n",
    "            plt.ylabel('Frequency', fontsize=10)\n",
    "            plt.title('Histogram of '+col, fontsize=12)\n",
    "            plt.savefig(\"Histogram_\"+col+\".png\")\n",
    "        print(\"Histograms downloaded at : \", os.getcwd())\n",
    "\n",
    "        for col in numeric_vars:\n",
    "            plt.figure()\n",
    "            plt.clf()\n",
    "            sns.boxplot(data[col])\n",
    "            plt.xlabel('Range of Values', fontsize=10)\n",
    "            plt.title('Boxplot of '+col, fontsize=12)\n",
    "            plt.savefig(\"Boxplot_\"+col+\".png\")\n",
    "        print(\"Box Plots downloaded at : \", os.getcwd())\n",
    "\n",
    "        for col in cateogorical_vars:\n",
    "            plt.figure()\n",
    "            plt.clf()\n",
    "            sns.countplot(data[col]).set_title('Bar Plot of '+col)\n",
    "            plt.savefig(\"Barplot_\"+col+\".png\")\n",
    "        print(\"Bar Plots downloaded at : \", os.getcwd())\n",
    "        \n",
    "    except TypeError as err:\n",
    "        print(\"ERROR: Check the function argument datatype\")\n",
    "        print(err.args[0])\n",
    "    except:\n",
    "        print(\"ERROR: An error has occurred\")"
   ]
  },
  {
   "cell_type": "code",
   "execution_count": null,
   "metadata": {},
   "outputs": [],
   "source": [
    "Graphs(df,{1:\"test\",2:\"test2\",3:\"test3\"})"
   ]
  },
  {
   "cell_type": "markdown",
   "metadata": {},
   "source": [
    "### Answer 4:\n",
    "\n",
    "Sometimes, we do not want to mess up our working directories with so many image files. Create\n",
    "an additional argument for the function \"dir\" (directory), such that the function exports all the\n",
    "files to that specified folder (which need not necessarily be your working directory). \n",
    "\n",
    "Graphs(data, Variable=c(1,3,4), dir=\".../Praxis/Graphs\")\n",
    "-> *will generate all the necessary graphics for the variables 1, 3\n",
    "and 4 in the specified location in your system which is \".../Praxis/\n",
    "Graphs\"*"
   ]
  },
  {
   "cell_type": "code",
   "execution_count": 19,
   "metadata": {},
   "outputs": [],
   "source": [
    "def Graphs(data, var=[],dir=os.getcwd()):    #Default value for dir is current working directory\n",
    "    try:\n",
    "        data=data.copy()\n",
    "        if not isinstance(var,list):# Making sure that var variable is a list\n",
    "           raise TypeError('The column numbers must be present in a list')\n",
    "        if not isinstance(data, pd.DataFrame):# Making sure that data variable is a DataFrame\n",
    "           raise TypeError('The data must be passed in a dataframe')\n",
    "        \n",
    "        curdir=os.getcwd()                   #Saving current working directory in a string\n",
    "        print(curdir)\n",
    "        if os.path.isdir(dir):\n",
    "            os.chdir(dir)                  #Changing directory to the one given in arguement\n",
    "        else:\n",
    "            raise SyntaxError(\"Enter a valid directory\")\n",
    "            \n",
    "        if len(var)!=0:                                    #Selecting subset of data with col no given in var list\n",
    "            drop_cols = list(range(len(data.columns)))\n",
    "            drop_cols = list(set(drop_cols).difference(var))\n",
    "            print(drop_cols)\n",
    "            data.drop(data.columns[drop_cols], axis=1, inplace=True)\n",
    "            \n",
    "        numerics = ['int16', 'int32', 'int64', 'float16', 'float32', 'float64'] \n",
    "        numeric_vars = data.select_dtypes(include=numerics).columns.tolist() #Column names of numerical datatypes\n",
    "        cateogorical_vars = data.select_dtypes(include=['object','bool']).columns.tolist() #Column names of categorical datatypes\n",
    "        \n",
    "        for col in numeric_vars:                            #Histogram Plotting\n",
    "            plt.figure()\n",
    "            plt.clf()\n",
    "            data[col].hist(bins=30, figsize=(10,5))\n",
    "            plt.xlabel(col, fontsize=10)\n",
    "            plt.ylabel('Frequency', fontsize=10)\n",
    "            plt.title('Histogram of '+col, fontsize=12)\n",
    "            plt.savefig(\"Histogram_\"+col+\".png\")\n",
    "        print(\"Histograms downloaded at : \", os.getcwd())\n",
    "\n",
    "        for col in numeric_vars:                           #Boxplot Plotting\n",
    "            plt.figure()\n",
    "            plt.clf()\n",
    "            sns.boxplot(data[col])\n",
    "            plt.xlabel('Range of Values', fontsize=10)\n",
    "            plt.title('Boxplot of '+col, fontsize=12)\n",
    "            plt.savefig(\"Boxplot_\"+col+\".png\")\n",
    "        print(\"Box Plots downloaded at : \", os.getcwd())\n",
    "\n",
    "        for col in cateogorical_vars:                      #Barplot Plotting\n",
    "            plt.figure()\n",
    "            plt.clf()\n",
    "            sns.countplot(data[col]).set_title('Bar Plot of '+col)\n",
    "            plt.savefig(\"Barplot_\"+col+\".png\")\n",
    "        print(\"Bar Plots downloaded at : \", os.getcwd())\n",
    "        \n",
    "        os.chdir(curdir) #Changing directory back to current working directory\n",
    "    except TypeError as err:\n",
    "        print(\"ERROR: Check the function argument datatype\")\n",
    "        print(err.args[0])\n",
    "    except SyntaxError as err2:\n",
    "        print(\"ERROR: Check the Path of the directory\")\n",
    "        print(err2.args[0])\n",
    "    #except:\n",
    "     #   print(\"ERROR: An error has occurred\")"
   ]
  },
  {
   "cell_type": "code",
   "execution_count": 21,
   "metadata": {},
   "outputs": [
    {
     "name": "stdout",
     "output_type": "stream",
     "text": [
      "C:\\Users\\Thinkpad-E470\\Downloads\\titanic\\Python EDA\n",
      "[4, 5, 6, 7, 8]\n",
      "Histograms downloaded at :  C:\\Users\\Thinkpad-E470\\Downloads\\titanic\\Python EDA\\New folder\\Graphs\n"
     ]
    },
    {
     "name": "stderr",
     "output_type": "stream",
     "text": [
      "D:\\Analytics\\anaconda3\\lib\\site-packages\\seaborn\\_decorators.py:43: FutureWarning: Pass the following variable as a keyword arg: x. From version 0.12, the only valid positional argument will be `data`, and passing other arguments without an explicit keyword will result in an error or misinterpretation.\n",
      "  FutureWarning\n",
      "D:\\Analytics\\anaconda3\\lib\\site-packages\\seaborn\\_decorators.py:43: FutureWarning: Pass the following variable as a keyword arg: x. From version 0.12, the only valid positional argument will be `data`, and passing other arguments without an explicit keyword will result in an error or misinterpretation.\n",
      "  FutureWarning\n",
      "D:\\Analytics\\anaconda3\\lib\\site-packages\\seaborn\\_decorators.py:43: FutureWarning: Pass the following variable as a keyword arg: x. From version 0.12, the only valid positional argument will be `data`, and passing other arguments without an explicit keyword will result in an error or misinterpretation.\n",
      "  FutureWarning\n"
     ]
    },
    {
     "name": "stdout",
     "output_type": "stream",
     "text": [
      "Box Plots downloaded at :  C:\\Users\\Thinkpad-E470\\Downloads\\titanic\\Python EDA\\New folder\\Graphs\n"
     ]
    },
    {
     "name": "stderr",
     "output_type": "stream",
     "text": [
      "D:\\Analytics\\anaconda3\\lib\\site-packages\\seaborn\\_decorators.py:43: FutureWarning: Pass the following variable as a keyword arg: x. From version 0.12, the only valid positional argument will be `data`, and passing other arguments without an explicit keyword will result in an error or misinterpretation.\n",
      "  FutureWarning\n"
     ]
    },
    {
     "name": "stdout",
     "output_type": "stream",
     "text": [
      "Bar Plots downloaded at :  C:\\Users\\Thinkpad-E470\\Downloads\\titanic\\Python EDA\\New folder\\Graphs\n"
     ]
    },
    {
     "data": {
      "text/plain": [
       "'C:\\\\Users\\\\Thinkpad-E470\\\\Downloads\\\\titanic\\\\Python EDA'"
      ]
     },
     "execution_count": 21,
     "metadata": {},
     "output_type": "execute_result"
    },
    {
     "data": {
      "image/png": "[encoded data removed]",
      "text/plain": [
       "<Figure size 720x360 with 1 Axes>"
      ]
     },
     "metadata": {
      "needs_background": "light"
     },
     "output_type": "display_data"
    },
    {
     "data": {
      "image/png": "[encoded data removed]",
      "text/plain": [
       "<Figure size 720x360 with 1 Axes>"
      ]
     },
     "metadata": {
      "needs_background": "light"
     },
     "output_type": "display_data"
    },
    {
     "data": {
      "image/png": "[encoded data removed]",
      "text/plain": [
       "<Figure size 720x360 with 1 Axes>"
      ]
     },
     "metadata": {
      "needs_background": "light"
     },
     "output_type": "display_data"
    },
    {
     "data": {
      "image/png": "[encoded data removed]",
      "text/plain": [
       "<Figure size 432x288 with 1 Axes>"
      ]
     },
     "metadata": {
      "needs_background": "light"
     },
     "output_type": "display_data"
    },
    {
     "data": {
      "image/png": "[encoded data removed]",
      "text/plain": [
       "<Figure size 432x288 with 1 Axes>"
      ]
     },
     "metadata": {
      "needs_background": "light"
     },
     "output_type": "display_data"
    },
    {
     "data": {
      "image/png": "[encoded data removed]",
      "text/plain": [
       "<Figure size 432x288 with 1 Axes>"
      ]
     },
     "metadata": {
      "needs_background": "light"
     },
     "output_type": "display_data"
    },
    {
     "data": {
      "image/png": "[encoded data removed]",
      "text/plain": [
       "<Figure size 432x288 with 1 Axes>"
      ]
     },
     "metadata": {
      "needs_background": "light"
     },
     "output_type": "display_data"
    }
   ],
   "source": [
    "Graphs(cars,var=[0,1,2,3],dir=\"C:/Users/Thinkpad-E470/Downloads/titanic/Python EDA/New folder/Graphs\")\n",
    "os.getcwd()"
   ]
  },
  {
   "cell_type": "markdown",
   "metadata": {},
   "source": [
    "---"
   ]
  },
  {
   "cell_type": "markdown",
   "metadata": {},
   "source": [
    "### Answer 5:\n",
    "\n",
    "Further Improvements: Create at least 2 more features of this function which you think can\n",
    "benefit you in your EDA process."
   ]
  },
  {
   "cell_type": "markdown",
   "metadata": {},
   "source": [
    "Feature 1:In cars dataset,no of cylinder is actually discrete(categorical).But since its stored as number,its treated as continous and we plot histogram and boxplots for it.We use a number threshold to solve this issue.\n",
    "\n",
    "Feature 2:In cars dataset,the variable car is actually a string representing name of the car.It should not be treated as categorical variable.We use a string threshold to solve this issue."
   ]
  },
  {
   "cell_type": "code",
   "execution_count": 25,
   "metadata": {},
   "outputs": [],
   "source": [
    "def Graphs(data, var=[],dir=os.getcwd(),num_thres=10,str_thres=20):    #Default value for dir is current working directory\n",
    "    try:\n",
    "        data=data.copy()\n",
    "        if not isinstance(var,list):# Making sure that var variable is a list\n",
    "           raise TypeError('The column numbers must be present in a list')\n",
    "        if not isinstance(data, pd.DataFrame):# Making sure that data variable is a DataFrame\n",
    "           raise TypeError('The data must be passed in a dataframe')\n",
    "        \n",
    "        curdir=os.getcwd()                   #Saving current working directory in a string\n",
    "        print(curdir)\n",
    "        if os.path.isdir(dir):\n",
    "            os.chdir(dir)                  #Changing directory to the one given in arguement\n",
    "        else:\n",
    "            raise SyntaxError(\"Enter a valid directory\")\n",
    "            \n",
    "        if len(var)!=0:                                    #Selecting subset of data with col no given in var list\n",
    "            drop_cols = list(range(len(data.columns)))\n",
    "            drop_cols = list(set(drop_cols).difference(var))\n",
    "            print(drop_cols)\n",
    "            data.drop(data.columns[drop_cols], axis=1, inplace=True)\n",
    "            \n",
    "        numerics = ['int16', 'int32', 'int64', 'float16', 'float32', 'float64'] \n",
    "        numeric_vars = data.select_dtypes(include=numerics).columns.tolist() #Column names of numerical datatypes\n",
    "        cateogorical_vars = data.select_dtypes(include=['object','bool']).columns.tolist() #Column names of categorical datatypes\n",
    "        \n",
    "        for col in numeric_vars:                            #Histogram Plotting for variables above numerical threshold\n",
    "            uniq=len(data[col].unique())\n",
    "            if(uniq>num_thres):\n",
    "                plt.figure()\n",
    "                plt.clf()\n",
    "                data[col].hist(bins=30, figsize=(10,5))\n",
    "                plt.xlabel(col, fontsize=10)\n",
    "                plt.ylabel('Frequency', fontsize=10)\n",
    "                plt.title('Histogram of '+col, fontsize=12)\n",
    "                plt.savefig(\"Histogram_\"+col+\".png\")\n",
    "        print(\"Histograms downloaded at : \", os.getcwd())\n",
    "\n",
    "        for col in numeric_vars:                           #Boxplot Plotting for variables above numerical threshold\n",
    "            uniq=len(data[col].unique())\n",
    "            if(uniq>num_thres):\n",
    "                plt.figure()\n",
    "                plt.clf()\n",
    "                sns.boxplot(data[col])\n",
    "                plt.xlabel('Range of Values', fontsize=10)\n",
    "                plt.title('Boxplot of '+col, fontsize=12)\n",
    "                plt.savefig(\"Boxplot_\"+col+\".png\")\n",
    "        print(\"Box Plots downloaded at : \", os.getcwd())\n",
    "\n",
    "        for col in cateogorical_vars:                      #Barplot Plotting for object variables below string threshold\n",
    "            uniq=len(data[col].unique())\n",
    "            if(uniq<=str_thres):\n",
    "                plt.figure()\n",
    "                plt.clf()\n",
    "                sns.countplot(data[col]).set_title('Bar Plot of '+col)\n",
    "                plt.savefig(\"Barplot_\"+col+\".png\")\n",
    "        print(\"Bar Plots downloaded at : \", os.getcwd())\n",
    "        \n",
    "        for col in numeric_vars:                      #Barplot Plotting for numeric variables below numerical threshold\n",
    "            uniq=len(data[col].unique())\n",
    "            if(uniq<=num_thres):\n",
    "                plt.figure()\n",
    "                plt.clf()\n",
    "                sns.countplot(data[col]).set_title('Bar Plot of '+col)\n",
    "                plt.savefig(\"Barplot_\"+col+\".png\")\n",
    "        print(\"Bar Plots downloaded at : \", os.getcwd())\n",
    "        \n",
    "        os.chdir(curdir) #Changing directory back to current working directory\n",
    "    except TypeError as err:\n",
    "        print(\"ERROR: Check the function argument datatype\")\n",
    "        print(err.args[0])\n",
    "    except SyntaxError as err2:\n",
    "        print(\"ERROR: Check the Path of the directory\")\n",
    "        print(err2.args[0])\n",
    "    "
   ]
  },
  {
   "cell_type": "code",
   "execution_count": 26,
   "metadata": {},
   "outputs": [
    {
     "name": "stdout",
     "output_type": "stream",
     "text": [
      "C:\\Users\\Thinkpad-E470\\Downloads\\titanic\\Python EDA\n",
      "[4, 5, 6, 7, 8]\n",
      "Histograms downloaded at :  C:\\Users\\Thinkpad-E470\\Downloads\\titanic\\Python EDA\n"
     ]
    },
    {
     "name": "stderr",
     "output_type": "stream",
     "text": [
      "D:\\Analytics\\anaconda3\\lib\\site-packages\\seaborn\\_decorators.py:43: FutureWarning: Pass the following variable as a keyword arg: x. From version 0.12, the only valid positional argument will be `data`, and passing other arguments without an explicit keyword will result in an error or misinterpretation.\n",
      "  FutureWarning\n",
      "D:\\Analytics\\anaconda3\\lib\\site-packages\\seaborn\\_decorators.py:43: FutureWarning: Pass the following variable as a keyword arg: x. From version 0.12, the only valid positional argument will be `data`, and passing other arguments without an explicit keyword will result in an error or misinterpretation.\n",
      "  FutureWarning\n"
     ]
    },
    {
     "name": "stdout",
     "output_type": "stream",
     "text": [
      "Box Plots downloaded at :  C:\\Users\\Thinkpad-E470\\Downloads\\titanic\\Python EDA\n",
      "Bar Plots downloaded at :  C:\\Users\\Thinkpad-E470\\Downloads\\titanic\\Python EDA\n"
     ]
    },
    {
     "name": "stderr",
     "output_type": "stream",
     "text": [
      "D:\\Analytics\\anaconda3\\lib\\site-packages\\seaborn\\_decorators.py:43: FutureWarning: Pass the following variable as a keyword arg: x. From version 0.12, the only valid positional argument will be `data`, and passing other arguments without an explicit keyword will result in an error or misinterpretation.\n",
      "  FutureWarning\n"
     ]
    },
    {
     "name": "stdout",
     "output_type": "stream",
     "text": [
      "Bar Plots downloaded at :  C:\\Users\\Thinkpad-E470\\Downloads\\titanic\\Python EDA\n"
     ]
    },
    {
     "data": {
      "image/png": "[encoded data removed]",
      "text/plain": [
       "<Figure size 720x360 with 1 Axes>"
      ]
     },
     "metadata": {
      "needs_background": "light"
     },
     "output_type": "display_data"
    },
    {
     "data": {
      "image/png": "[encoded data removed]",
      "text/plain": [
       "<Figure size 720x360 with 1 Axes>"
      ]
     },
     "metadata": {
      "needs_background": "light"
     },
     "output_type": "display_data"
    },
    {
     "data": {
      "image/png": "[encoded data removed]",
      "text/plain": [
       "<Figure size 432x288 with 1 Axes>"
      ]
     },
     "metadata": {
      "needs_background": "light"
     },
     "output_type": "display_data"
    },
    {
     "data": {
      "image/png": "[encoded data removed]",
      "text/plain": [
       "<Figure size 432x288 with 1 Axes>"
      ]
     },
     "metadata": {
      "needs_background": "light"
     },
     "output_type": "display_data"
    },
    {
     "data": {
      "image/png": "[encoded data removed]",
      "text/plain": [
       "<Figure size 432x288 with 1 Axes>"
      ]
     },
     "metadata": {
      "needs_background": "light"
     },
     "output_type": "display_data"
    }
   ],
   "source": [
    "Graphs(cars,[0,1,2,3])"
   ]
  },
  {
   "cell_type": "code",
   "execution_count": null,
   "metadata": {},
   "outputs": [],
   "source": []
  }
 ],
 "metadata": {
  "kernelspec": {
   "display_name": "Python 3",
   "language": "python",
   "name": "python3"
  },
  "language_info": {
   "codemirror_mode": {
    "name": "ipython",
    "version": 3
   },
   "file_extension": ".py",
   "mimetype": "text/x-python",
   "name": "python",
   "nbconvert_exporter": "python",
   "pygments_lexer": "ipython3",
   "version": "3.7.6"
  }
 },
 "nbformat": 4,
 "nbformat_minor": 4
}
